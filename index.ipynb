{
 "cells": [
  {
   "cell_type": "markdown",
   "metadata": {},
   "source": [
    "# Stable Diffusion Models Auto Downloader \n",
    "\n",
    "This jupyter notebook helps you easily downloads various models.\n",
    "Execute the cell below.\n",
    "Select models you want. \n",
    "After then, execute the second(the last) cell to start download.\n",
    "Super easy. That's all!"
   ]
  },
  {
   "cell_type": "code",
   "execution_count": null,
   "metadata": {
    "tags": []
   },
   "outputs": [],
   "source": [
    "from index import render, parse_textarea\n",
    "\n",
    "store = set()\n",
    "root_text_input, sections = render(store)"
   ]
  },
  {
   "cell_type": "markdown",
   "metadata": {
    "tags": []
   },
   "source": [
    "## Start Download\n",
    "\n",
    "Have you selected all models you want?\n",
    "Then execute this cell to start downloading. "
   ]
  },
  {
   "cell_type": "code",
   "execution_count": null,
   "metadata": {
    "tags": []
   },
   "outputs": [],
   "source": [
    "import os\n",
    "\n",
    "textarea_store = set()\n",
    "for section in sections.values():\n",
    "  if section['textarea']: \n",
    "    parse_textarea(\n",
    "      textarea = section['textarea'],\n",
    "      dest = section['path'].value.strip(),\n",
    "      store = textarea_store)\n",
    "integrated_store = store.union(textarea_store)\n",
    "for item in integrated_store:\n",
    "  print(item.url)\n",
    "  !wget --content-disposition \"{item.url}\" -P \"{os.path.join(root_text_input.value.strip(), item.dest())}\"\n",
    "print('Done!')"
   ]
  }
 ],
 "metadata": {
  "kernelspec": {
   "display_name": "Python 3 (ipykernel)",
   "language": "python",
   "name": "python3"
  },
  "language_info": {
   "codemirror_mode": {
    "name": "ipython",
    "version": 3
   },
   "file_extension": ".py",
   "mimetype": "text/x-python",
   "name": "python",
   "nbconvert_exporter": "python",
   "pygments_lexer": "ipython3",
   "version": "3.11.4"
  }
 },
 "nbformat": 4,
 "nbformat_minor": 4
}
