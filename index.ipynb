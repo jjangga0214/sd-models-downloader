{
 "cells": [
  {
   "cell_type": "markdown",
   "metadata": {},
   "source": [
    "# Stable Diffusion Models Auto Downloader \n",
    "\n",
    "This jupyter notebook helps you easily downloads various models."
   ]
  },
  {
   "cell_type": "markdown",
   "metadata": {},
   "source": [
    "## Select Models\n",
    "\n",
    "Execute the cell below.\n",
    "It may take a few seconds (1 ~ 5 secs) for UI to be shown.\n",
    "\n",
    "Note that output of the cell may be trimmed.\n",
    "That's because the UI page (output of the cell) is long.\n",
    "In that case, the button \"SHOW MORE OUTPUT\" would be at the end of the UI.\n",
    "Depending on your environment, message like below may appear instead of it. \n",
    "\n",
    "```\n",
    "Output of this cell has been trimmed on the initial display.\n",
    "Displaying the first 50 top outputs.\n",
    "Click on this message to get the complete output.\n",
    "```\n",
    "\n",
    "Literally \"click\" the button or message to fully unfold the UI.\n",
    "\n",
    "Then select models you want.\n",
    "If you completed the selection, move to the second cell to start downloading."
   ]
  },
  {
   "cell_type": "code",
   "execution_count": null,
   "metadata": {
    "tags": []
   },
   "outputs": [],
   "source": [
    "from index import render\n",
    "\n",
    "root_path_input, sections, extension = render() "
   ]
  },
  {
   "cell_type": "markdown",
   "metadata": {
    "tags": []
   },
   "source": [
    "## Start Download\n",
    "\n",
    "Have you selected all models you want?\n",
    "\n",
    "Then execute this cell to start downloading.\n",
    "It may take a few seconds (1 ~ 5 secs) to start downloading.\n",
    "So just wait for a bit until the progress bar appears.\n"
   ]
  },
  {
   "cell_type": "code",
   "execution_count": null,
   "metadata": {
    "tags": []
   },
   "outputs": [],
   "source": [
    "import os\n",
    "from index import filter_items, parse_textarea\n",
    "from urllib.parse import urlparse\n",
    "\n",
    "items = filter_items(sections)\n",
    "root = root_path_input.value.strip()\n",
    "for item in items:\n",
    "    dest = os.path.join(root, item.dest, item.sub_dir)\n",
    "    !wget --content-disposition \"{item.file.url}\" -P \"{dest}\"\n",
    "    if item.file.image:\n",
    "        if item.file.name:\n",
    "            base_name, _ = os.path.splitext(item.file.name)\n",
    "            image_name = f\"{base_name}.preview.png\"\n",
    "            dest = os.path.join(dest, image_name)\n",
    "            !wget \"{item.file.image}\" -O \"{dest}\"\n",
    "        else:\n",
    "            !wget --content-disposition \"{item.file.image}\" -P \"{dest}\"\n",
    "\n",
    "extension_root = extension[\"path\"].value.strip()\n",
    "extension_items = parse_textarea(textarea=extension[\"textarea\"], dest=extension_root)\n",
    "extension_install = extension[\"install\"].value \n",
    "for item in extension_items:\n",
    "    name = urlparse(item.file.url).path.split('/')[-1]\n",
    "    dest = os.path.join(root, item.dest, name)\n",
    "    !git clone \"{item.file.url}\" \"{dest}\" \n",
    "    if name.endswith(\".git\"):\n",
    "        name = name[:-len(\".git\")]\n",
    "    if extension[\"install\"].value:\n",
    "        install_py = os.path.join(dest, \"install.py\")\n",
    "        if os.path.exists(install_py):\n",
    "            !python \"{install_py}\"\n",
    "\n",
    "print(\"Done!\")"
   ]
  }
 ],
 "metadata": {
  "kernelspec": {
   "display_name": "Python 3 (ipykernel)",
   "language": "python",
   "name": "python3"
  },
  "language_info": {
   "codemirror_mode": {
    "name": "ipython",
    "version": 3
   },
   "file_extension": ".py",
   "mimetype": "text/x-python",
   "name": "python",
   "nbconvert_exporter": "python",
   "pygments_lexer": "ipython3",
   "version": "3.11.4"
  }
 },
 "nbformat": 4,
 "nbformat_minor": 4
}
