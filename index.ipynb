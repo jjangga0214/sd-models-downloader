{
 "cells": [
  {
   "cell_type": "markdown",
   "metadata": {},
   "source": [
    "# Stable Diffusion Models Auto Downloader \n",
    "\n",
    "This jupyter notebook helps you easily downloads various models.\n",
    "Execute the cell below.\n",
    "Select models you want. \n",
    "After then, execute the second(the last) cell to start download.\n",
    "Super easy. That's all!"
   ]
  },
  {
   "cell_type": "code",
   "execution_count": null,
   "metadata": {
    "tags": []
   },
   "outputs": [],
   "source": [
    "from index import render, parse_textarea\n",
    "\n",
    "store = set()\n",
    "root_text_input, sections = render(store)"
   ]
  },
  {
   "cell_type": "markdown",
   "metadata": {
    "tags": []
   },
   "source": [
    "## Start Download\n",
    "\n",
    "Have you selected all models you want?\n",
    "Then execute this cell to start downloading. "
   ]
  },
  {
   "cell_type": "code",
   "execution_count": null,
   "metadata": {
    "tags": []
   },
   "outputs": [],
   "source": [
    "import os\n",
    "\n",
    "textarea_store = set()\n",
    "for section in sections.values():\n",
    "  for item in section.items: \n",
    "    item.dest = section.path.value.strip()\n",
    "  if section.textarea: \n",
    "    items = parse_textarea(\n",
    "      textarea = section.textarea,\n",
    "      dest = section.path.value.strip())\n",
    "    textarea_store.update(items)\n",
    "integrated_store = store.union(textarea_store)\n",
    "for item in integrated_store:\n",
    "  file_url = item.url\n",
    "  dest = os.path.join(root_text_input.value.strip(), item.dest)\n",
    "  !wget --content-disposition \"{file_url.url}\" -P \"{dest}\"\n",
    "  if file_url.image:\n",
    "    if file_url.name:\n",
    "      base_name, _ = os.path.splitext(file_url.name)\n",
    "      image_name = f'{base_name}.preview.png' \n",
    "      dest = os.path.join(dest, image_name)\n",
    "      !wget \"{file_url.image}\" -O \"{dest}\"\n",
    "    else:\n",
    "      !wget --content-disposition \"{file_url.image}\" -P \"{dest}\"\n",
    "print('Done!')"
   ]
  }
 ],
 "metadata": {
  "kernelspec": {
   "display_name": "Python 3 (ipykernel)",
   "language": "python",
   "name": "python3"
  },
  "language_info": {
   "codemirror_mode": {
    "name": "ipython",
    "version": 3
   },
   "file_extension": ".py",
   "mimetype": "text/x-python",
   "name": "python",
   "nbconvert_exporter": "python",
   "pygments_lexer": "ipython3",
   "version": "3.11.4"
  }
 },
 "nbformat": 4,
 "nbformat_minor": 4
}
